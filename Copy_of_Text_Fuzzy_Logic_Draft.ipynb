{
  "nbformat": 4,
  "nbformat_minor": 0,
  "metadata": {
    "kernelspec": {
      "display_name": "Python 3",
      "language": "python",
      "name": "python3"
    },
    "language_info": {
      "codemirror_mode": {
        "name": "ipython",
        "version": 3
      },
      "file_extension": ".py",
      "mimetype": "text/x-python",
      "name": "python",
      "nbconvert_exporter": "python",
      "pygments_lexer": "ipython3",
      "version": "3.7.3"
    },
    "colab": {
      "name": "Copy of Text Fuzzy Logic Draft.ipynb",
      "provenance": []
    }
  },
  "cells": [
    {
      "cell_type": "markdown",
      "metadata": {
        "id": "MHqPGo-TPUkT",
        "colab_type": "text"
      },
      "source": [
        "<h1><center>Fuzzy Matching - Protiviti Proof-of-concept</center></h1>"
      ]
    },
    {
      "cell_type": "markdown",
      "metadata": {
        "id": "S4XSUqSzPUkU",
        "colab_type": "text"
      },
      "source": [
        "## Algorithm Implementation:\n",
        " - Jaro-Winkler\n",
        " - Sørensen–Dice\n",
        " - Levenshtein"
      ]
    },
    {
      "cell_type": "markdown",
      "metadata": {
        "id": "sFrjUQtwPUkU",
        "colab_type": "text"
      },
      "source": [
        "### Jaro-Winkler Distance \n",
        "In computer science and statistics, the Jaro–Winkler distance is a string metric measuring an edit distance between two sequences. It is a variant proposed in 1990 by William E. Winkler of the Jaro distance metric (1989, Matthew A. Jaro).\n",
        "\n",
        "The Jaro–Winkler distance uses a prefix scale which gives more favourable ratings to strings that match from the beginning for a set prefix length.\n",
        "\n",
        "The lower the Jaro–Winkler distance for two strings is, the more similar the strings are. The score is normalized such that 0 means an exact match and 1 means there is no similarity. The Jaro–Winkler similarity is the inversion, (1 − Jaro–Winkler distance).\n",
        "\n",
        "Source: https://en.wikipedia.org/wiki/Jaro%E2%80%93Winkler_distance"
      ]
    },
    {
      "cell_type": "markdown",
      "metadata": {
        "id": "oJ62F4O7PUkV",
        "colab_type": "text"
      },
      "source": [
        "#### Implementation using Jellyfish  \n",
        "Documentation: https://jellyfish.readthedocs.io/en/latest/comparison.html#jaro-winkler-similarity  \n",
        "\n",
        "pip installation: \n",
        "> pip install jellyfish"
      ]
    },
    {
      "cell_type": "code",
      "metadata": {
        "id": "4tXlSvD1PUkV",
        "colab_type": "code",
        "colab": {}
      },
      "source": [
        "# Load required packages and dependencies\n",
        "import jellyfish"
      ],
      "execution_count": null,
      "outputs": []
    },
    {
      "cell_type": "markdown",
      "metadata": {
        "id": "f_rOc1rnPUkY",
        "colab_type": "text"
      },
      "source": [
        "**Jellyfish's implementation differs from Wikipedia's definition**  \n",
        "Results approaching 0 indicate no similarity. Conversely, a result of 1 indicates an exact match."
      ]
    },
    {
      "cell_type": "code",
      "metadata": {
        "id": "StIJto24PUkZ",
        "colab_type": "code",
        "colab": {}
      },
      "source": [
        "jellyfish.jaro_similarity(\"yuchenwang\", \"yuchenwang\")"
      ],
      "execution_count": null,
      "outputs": []
    },
    {
      "cell_type": "code",
      "metadata": {
        "id": "HgpHY43IPUkb",
        "colab_type": "code",
        "colab": {}
      },
      "source": [
        "jellyfish.jaro_similarity(\"yuchenwang\", \"yuchenprotiviti\")"
      ],
      "execution_count": null,
      "outputs": []
    },
    {
      "cell_type": "code",
      "metadata": {
        "id": "ty7QiGftPUkd",
        "colab_type": "code",
        "colab": {}
      },
      "source": [
        "jellyfish.jaro_similarity(\"yuchenwang\", \"protiviti\")"
      ],
      "execution_count": null,
      "outputs": []
    },
    {
      "cell_type": "markdown",
      "metadata": {
        "id": "KHEDE-NhPUkf",
        "colab_type": "text"
      },
      "source": [
        "#### Implementation using Abydos  \n",
        "Documentation: https://abydos.readthedocs.io/en/latest/abydos.distance.html#abydos.distance.JaroWinkler\n",
        "\n",
        "pip installation: \n",
        "> pip install abydos"
      ]
    },
    {
      "cell_type": "code",
      "metadata": {
        "id": "dirnObOfPUkf",
        "colab_type": "code",
        "colab": {}
      },
      "source": [
        "# Load required packages and dependencies\n",
        "from abydos.phonetic import *\n",
        "from abydos.distance import *\n"
      ],
      "execution_count": null,
      "outputs": []
    },
    {
      "cell_type": "code",
      "metadata": {
        "id": "RGPzXHPIPUki",
        "colab_type": "code",
        "colab": {}
      },
      "source": [
        "# Create instance of JaroWinkler class\n",
        "jaro_winkler = JaroWinkler()"
      ],
      "execution_count": null,
      "outputs": []
    },
    {
      "cell_type": "markdown",
      "metadata": {
        "id": "ixLPh87ePUkk",
        "colab_type": "text"
      },
      "source": [
        "**Abydos's implementation differs from Wikipedia's definition**  \n",
        "Results approaching 0 indicate no similarity. Conversely, a result of 1 indicates an exact match."
      ]
    },
    {
      "cell_type": "code",
      "metadata": {
        "id": "90ZUQvouPUkk",
        "colab_type": "code",
        "colab": {}
      },
      "source": [
        "jaro_winkler.sim(\"yuchenwang\", \"yuchenwang\")"
      ],
      "execution_count": null,
      "outputs": []
    },
    {
      "cell_type": "code",
      "metadata": {
        "id": "2w8tFod5PUko",
        "colab_type": "code",
        "colab": {}
      },
      "source": [
        "jaro_winkler.sim(\"yuchenwang\", \"yuchenprotiviti\")"
      ],
      "execution_count": null,
      "outputs": []
    },
    {
      "cell_type": "code",
      "metadata": {
        "id": "aShhMq14PUkq",
        "colab_type": "code",
        "colab": {}
      },
      "source": [
        "jaro_winkler.sim(\"yuchenwang\", \"protiviti\")"
      ],
      "execution_count": null,
      "outputs": []
    },
    {
      "cell_type": "markdown",
      "metadata": {
        "id": "B5b4dCp3PUks",
        "colab_type": "text"
      },
      "source": [
        "### Sørensen–Dice coefficient \n",
        "\n",
        "The Sørensen–Dice coefficient (see below for other names) is a statistic used to gauge the similarity of two samples. It was independently developed by the botanists Thorvald Sørensen[1] and Lee Raymond Dice,[2] who published in 1948 and 1945 respectively.\n",
        "\n",
        "Source: https://en.wikipedia.org/wiki/S%C3%B8rensen%E2%80%93Dice_coefficient#Applications"
      ]
    },
    {
      "cell_type": "markdown",
      "metadata": {
        "id": "4xtIR8cEPUkt",
        "colab_type": "text"
      },
      "source": [
        "#### Implementation using Abydos  \n",
        "Documentation: https://abydos.readthedocs.io/en/latest/abydos.distance.html?highlight=dice#abydos.distance.Dice\n",
        "\n",
        "pip installation: \n",
        "> pip install abydos"
      ]
    },
    {
      "cell_type": "code",
      "metadata": {
        "id": "AQ1dP0OuPUkt",
        "colab_type": "code",
        "colab": {}
      },
      "source": [
        "# Load required packages and dependencies\n",
        "from abydos.phonetic import *\n",
        "from abydos.distance import *"
      ],
      "execution_count": null,
      "outputs": []
    },
    {
      "cell_type": "code",
      "metadata": {
        "id": "pogoCDNsPUkv",
        "colab_type": "code",
        "colab": {}
      },
      "source": [
        "# Create instance of Dice class\n",
        "dice = Dice()"
      ],
      "execution_count": null,
      "outputs": []
    },
    {
      "cell_type": "markdown",
      "metadata": {
        "id": "a14384jWPUky",
        "colab_type": "text"
      },
      "source": [
        "Results approaching 0 indicate no similarity. Conversely, a result of 1 indicates an exact match.\n",
        "\n",
        "Additional Background: https://towardsdatascience.com/metrics-to-evaluate-your-semantic-segmentation-model-6bcb99639aa2"
      ]
    },
    {
      "cell_type": "code",
      "metadata": {
        "id": "xuaxObEtPUky",
        "colab_type": "code",
        "colab": {}
      },
      "source": [
        "dice.sim(\"yuchenwang\", \"yuchenwang\")"
      ],
      "execution_count": null,
      "outputs": []
    },
    {
      "cell_type": "code",
      "metadata": {
        "id": "cQtswE09PUk0",
        "colab_type": "code",
        "colab": {}
      },
      "source": [
        "dice.sim(\"yuchenwang\", \"yuchenprotiviti\")"
      ],
      "execution_count": null,
      "outputs": []
    },
    {
      "cell_type": "code",
      "metadata": {
        "id": "5K9vEUvpPUk3",
        "colab_type": "code",
        "colab": {}
      },
      "source": [
        "dice.sim(\"yuchenwang\", \"protiviti\")"
      ],
      "execution_count": null,
      "outputs": []
    },
    {
      "cell_type": "markdown",
      "metadata": {
        "id": "UV8RHpG_PUk5",
        "colab_type": "text"
      },
      "source": [
        "### Levenshtein Distance\n",
        "The Levenshtein distance is a number that tells you how different two strings are. The higher the number, the more different the two strings are.  \n",
        "\n",
        "For example, the Levenshtein distance between “kitten” and “sitting” is 3 since, at a minimum, 3 edits are required to change one into the other.  \n",
        "\n",
        "> kitten → sitten (substitution of “s” for “k”)  \n",
        "> sitten → sittin (substitution of “i” for “e”)  \n",
        "> sittin → sitting (insertion of “g” at the end).  \n",
        "\n",
        "An “edit” is defined by either an insertion of a character, a deletion of a character, or a replacement of a character.  \n",
        "\n",
        "Source: https://medium.com/@ethannam/understanding-the-levenshtein-distance-equation-for-beginners-c4285a5604f0"
      ]
    },
    {
      "cell_type": "markdown",
      "metadata": {
        "id": "vrjxoHFpPUk5",
        "colab_type": "text"
      },
      "source": [
        "#### Implementation using Jellyfish  \n",
        "Documentation: https://jellyfish.readthedocs.io/en/latest/comparison.html?highlight=leven#levenshtein_distance\n",
        "\n",
        "pip installation: \n",
        "> pip install jellyfish"
      ]
    },
    {
      "cell_type": "markdown",
      "metadata": {
        "id": "K8jFezJdPUk6",
        "colab_type": "text"
      },
      "source": [
        "These values indicate the number of edits to get from the first string to the second string."
      ]
    },
    {
      "cell_type": "code",
      "metadata": {
        "id": "D2f2wPbWPUk6",
        "colab_type": "code",
        "colab": {}
      },
      "source": [
        "jellyfish.levenshtein_distance(\"yuchenwang\", \"yuchenwang\")"
      ],
      "execution_count": null,
      "outputs": []
    },
    {
      "cell_type": "code",
      "metadata": {
        "id": "Adp_5qYwPUk_",
        "colab_type": "code",
        "colab": {}
      },
      "source": [
        "jellyfish.levenshtein_distance(\"yuchenwang\", \"yuchenprotiviti\")"
      ],
      "execution_count": null,
      "outputs": []
    },
    {
      "cell_type": "code",
      "metadata": {
        "id": "gt-JDardPUlB",
        "colab_type": "code",
        "colab": {}
      },
      "source": [
        "jellyfish.levenshtein_distance(\"yuchenwang\", \"protiviti\")"
      ],
      "execution_count": null,
      "outputs": []
    },
    {
      "cell_type": "markdown",
      "metadata": {
        "id": "j7Di-LUwPUlC",
        "colab_type": "text"
      },
      "source": [
        "#### Implementation using Abydos  \n",
        "Documentation: https://abydos.readthedocs.io/en/latest/abydos.distance.html?highlight=dice#abydos.distance.Levenshtein\n",
        "\n",
        "pip installation: \n",
        "> pip install abydos"
      ]
    },
    {
      "cell_type": "code",
      "metadata": {
        "id": "l3okzdNuPUlD",
        "colab_type": "code",
        "colab": {}
      },
      "source": [
        "# Load required packages and dependencies\n",
        "from abydos.phonetic import *\n",
        "from abydos.distance import *"
      ],
      "execution_count": null,
      "outputs": []
    },
    {
      "cell_type": "code",
      "metadata": {
        "id": "xfG_gj8HPUlF",
        "colab_type": "code",
        "colab": {}
      },
      "source": [
        "# Create instance of Dice class\n",
        "levenshtein_distance = Levenshtein()"
      ],
      "execution_count": null,
      "outputs": []
    },
    {
      "cell_type": "markdown",
      "metadata": {
        "id": "daNgL8HbPUlH",
        "colab_type": "text"
      },
      "source": [
        "These values indicate the number of edits to get from the first string to the second string."
      ]
    },
    {
      "cell_type": "code",
      "metadata": {
        "id": "-XlRzcCXPUlH",
        "colab_type": "code",
        "colab": {}
      },
      "source": [
        "levenshtein_distance.dist_abs(\"yuchenwang\", \"yuchenwang\")"
      ],
      "execution_count": null,
      "outputs": []
    },
    {
      "cell_type": "code",
      "metadata": {
        "id": "M6WJnrFlPUlJ",
        "colab_type": "code",
        "colab": {}
      },
      "source": [
        "levenshtein_distance.dist_abs(\"yuchenwang\", \"yuchenprotiviti\")"
      ],
      "execution_count": null,
      "outputs": []
    },
    {
      "cell_type": "code",
      "metadata": {
        "id": "7Hah-JSGPUlL",
        "colab_type": "code",
        "colab": {}
      },
      "source": [
        "levenshtein_distance.dist_abs(\"yuchenwang\", \"protiviti\")"
      ],
      "execution_count": null,
      "outputs": []
    },
    {
      "cell_type": "markdown",
      "metadata": {
        "id": "fhj8FJ3yPUlN",
        "colab_type": "text"
      },
      "source": [
        "**Abydos also has a method for calculating Levenshtein similarity**  \n",
        "This essentially normalizes Levenshtein distance to the same range of [0,1] as the previous algorithms.  \n",
        "\n",
        "Source: https://itnext.io/string-similarity-the-basic-know-your-algorithms-guide-3de3d7346227"
      ]
    },
    {
      "cell_type": "markdown",
      "metadata": {
        "id": "IOgqUBhDPUlO",
        "colab_type": "text"
      },
      "source": [
        "My interpretation of the result below is that \"arrow\" has 5 characters. 1 edit (\"r\") is missing from \"arow\" to make it equal to \"arrow\". A perfect match would have a value of 1.0. \n",
        "\n",
        "$$ 0.8= 1.0 - \\frac{1}{5} $$"
      ]
    },
    {
      "cell_type": "code",
      "metadata": {
        "id": "Usgp8RzlPUlO",
        "colab_type": "code",
        "colab": {}
      },
      "source": [
        "levenshtein_distance.sim(\"arrow\", \"arow\")"
      ],
      "execution_count": null,
      "outputs": []
    },
    {
      "cell_type": "code",
      "metadata": {
        "id": "vgnzwypoPUlR",
        "colab_type": "code",
        "colab": {}
      },
      "source": [
        "levenshtein_distance.sim(\"arrow\", \"arrow\")"
      ],
      "execution_count": null,
      "outputs": []
    },
    {
      "cell_type": "markdown",
      "metadata": {
        "id": "9WG1QGeqPUlT",
        "colab_type": "text"
      },
      "source": [
        "$$ 0.2 = 1.0 - \\frac{4}{5} $$"
      ]
    },
    {
      "cell_type": "code",
      "metadata": {
        "id": "K-4cc1asPUlT",
        "colab_type": "code",
        "colab": {}
      },
      "source": [
        "levenshtein_distance.sim(\"arrow\", \"a\")"
      ],
      "execution_count": null,
      "outputs": []
    },
    {
      "cell_type": "markdown",
      "metadata": {
        "id": "W6teU8gGPUlV",
        "colab_type": "text"
      },
      "source": [
        "Potential applications:\n",
        "OCR Corrections\n",
        "    Training thresholds on each distance against known correct \"errors\"\n",
        "        Determining if we want to use average/minimum for each threshold\n",
        "    Obtaining list of known values\n",
        "        e.g., listing of known (1) vendors, (2) item names, (3) \n",
        "    Taking a body of test errors and running them against our known values and calculating the distances\n",
        "        Edge case - vendors that have very similar spellings or names\n",
        "    Deciding if we want to use consensus (3/3) matching the threshold or majority (2/3) matching the threshold\n",
        "        \"Googla\" vs. \"Google\"\n",
        "            Dice over threshold (check)\n",
        "            Levenshetin over threshold (check)\n",
        "            Jaro-Winkler over threshold (check)\n",
        "        If conditions are met, replace \"Googla\" with \"Google\"\n",
        "        Would need to implement exception handling if a case met the threshold for more than one vendor"
      ]
    },
    {
      "cell_type": "markdown",
      "metadata": {
        "id": "yVhFgwnqPUlW",
        "colab_type": "text"
      },
      "source": [
        "## Creating Fake Errors from Sample Data"
      ]
    },
    {
      "cell_type": "code",
      "metadata": {
        "id": "CLRmyiovPUlW",
        "colab_type": "code",
        "colab": {}
      },
      "source": [
        "import string\n",
        "import random\n",
        "import pandas as pd"
      ],
      "execution_count": null,
      "outputs": []
    },
    {
      "cell_type": "code",
      "metadata": {
        "id": "oCg58C9oPUlY",
        "colab_type": "code",
        "colab": {}
      },
      "source": [
        "artificial_POs = pd.read_csv(r'C:\\Users\\yucwan01\\Downloads\\Artificial PO Data.csv')"
      ],
      "execution_count": null,
      "outputs": []
    },
    {
      "cell_type": "code",
      "metadata": {
        "id": "088Ghe6iPUlj",
        "colab_type": "code",
        "colab": {}
      },
      "source": [
        "test_list = ['acme corporation', 'test test test test', 'this is so much fun for me']"
      ],
      "execution_count": null,
      "outputs": []
    },
    {
      "cell_type": "code",
      "metadata": {
        "id": "72admR_9PUlk",
        "colab_type": "code",
        "colab": {}
      },
      "source": [
        "def typo_generator(artificial_list, probability):\n",
        "    error_artificial_list = []\n",
        "    \n",
        "    for sample in artificial_list:\n",
        "        words = sample.split(' ')\n",
        "        new_phrase = []\n",
        "        for word in words:\n",
        "            outcome = random.random()\n",
        "            if outcome <= probability:\n",
        "                ix = random.choice(range(len(word)))\n",
        "                new_word = ''.join([word[w] if w != ix else random.choice(string.ascii_letters) for w in range(len(word))])\n",
        "                new_phrase.append(new_word)\n",
        "            else:\n",
        "                new_phrase.append(word)\n",
        "        new_phrase = ' '.join([w for w in new_phrase]) \n",
        "        error_artificial_list.append(new_phrase)\n",
        "        \n",
        "    return error_artificial_list       \n",
        "                "
      ],
      "execution_count": null,
      "outputs": []
    },
    {
      "cell_type": "code",
      "metadata": {
        "id": "CfVr_27fPUlm",
        "colab_type": "code",
        "colab": {},
        "outputId": "78106eb0-0c7c-4054-cb00-15f093783407"
      },
      "source": [
        "typo_generator(test_list, 0.2)"
      ],
      "execution_count": null,
      "outputs": [
        {
          "output_type": "execute_result",
          "data": {
            "text/plain": [
              "['acme corporation', 'test test test test', 'this is so much fun for me']"
            ]
          },
          "metadata": {
            "tags": []
          },
          "execution_count": 12
        }
      ]
    },
    {
      "cell_type": "code",
      "metadata": {
        "id": "ubTcbZJ4PUlr",
        "colab_type": "code",
        "colab": {}
      },
      "source": [
        "def create_typos(df, probability):\n",
        "    col_names = list(df.columns)\n",
        "    df = df.copy(deep = True)\n",
        "    for col_name in col_names:\n",
        "        col_list = df[col_name].tolist()\n",
        "        error_artificial_list = typo_generator(col_list, probability)\n",
        "        df[col_name] = error_artificial_list\n",
        "        \n",
        "    return df"
      ],
      "execution_count": null,
      "outputs": []
    },
    {
      "cell_type": "code",
      "metadata": {
        "id": "qM-gQOK-PUls",
        "colab_type": "code",
        "colab": {}
      },
      "source": [
        "sample_df = create_typos(artificial_POs, 0.9)"
      ],
      "execution_count": null,
      "outputs": []
    },
    {
      "cell_type": "code",
      "metadata": {
        "id": "eKM8wV6vPUlu",
        "colab_type": "code",
        "colab": {},
        "outputId": "d8eb3cd7-59a4-4cfc-de8e-e40e0038ed3a"
      },
      "source": [
        "artificial_POs.head()"
      ],
      "execution_count": null,
      "outputs": [
        {
          "output_type": "execute_result",
          "data": {
            "text/html": [
              "<div>\n",
              "<style scoped>\n",
              "    .dataframe tbody tr th:only-of-type {\n",
              "        vertical-align: middle;\n",
              "    }\n",
              "\n",
              "    .dataframe tbody tr th {\n",
              "        vertical-align: top;\n",
              "    }\n",
              "\n",
              "    .dataframe thead th {\n",
              "        text-align: right;\n",
              "    }\n",
              "</style>\n",
              "<table border=\"1\" class=\"dataframe\">\n",
              "  <thead>\n",
              "    <tr style=\"text-align: right;\">\n",
              "      <th></th>\n",
              "      <th>Ship to - Company</th>\n",
              "      <th>Contact Name</th>\n",
              "      <th>Contact Email</th>\n",
              "      <th>Ship to - Country</th>\n",
              "      <th>Ship to - City</th>\n",
              "      <th>Ship to - Street Address</th>\n",
              "    </tr>\n",
              "  </thead>\n",
              "  <tbody>\n",
              "    <tr>\n",
              "      <th>0</th>\n",
              "      <td>Mauris Molestie Pharetra LLC</td>\n",
              "      <td>Cassidy Hutchinson</td>\n",
              "      <td>augue.scelerisque@leoinlobortis.edu</td>\n",
              "      <td>Portugal</td>\n",
              "      <td>Pali</td>\n",
              "      <td>P.O. Box 216, 3450 Ligula. St.</td>\n",
              "    </tr>\n",
              "    <tr>\n",
              "      <th>1</th>\n",
              "      <td>Nulla Industries</td>\n",
              "      <td>Ursula Hansen</td>\n",
              "      <td>ante.bibendum.ullamcorper@ligulaconsectetuerrh...</td>\n",
              "      <td>Samoa</td>\n",
              "      <td>Blieskastel</td>\n",
              "      <td>P.O. Box 265, 9591 Non, Road</td>\n",
              "    </tr>\n",
              "    <tr>\n",
              "      <th>2</th>\n",
              "      <td>Luctus Curabitur Egestas Corporation</td>\n",
              "      <td>Diana Sparks</td>\n",
              "      <td>et@nonummyipsumnon.com</td>\n",
              "      <td>Bouvet Island</td>\n",
              "      <td>New Haven</td>\n",
              "      <td>Ap #824-6412 Sit Street</td>\n",
              "    </tr>\n",
              "    <tr>\n",
              "      <th>3</th>\n",
              "      <td>Ante Ipsum Primis Limited</td>\n",
              "      <td>Michael L. Chase</td>\n",
              "      <td>Vestibulum.accumsan@condimentumDonec.ca</td>\n",
              "      <td>Solomon Islands</td>\n",
              "      <td>Springfield</td>\n",
              "      <td>1718 Eget Rd.</td>\n",
              "    </tr>\n",
              "    <tr>\n",
              "      <th>4</th>\n",
              "      <td>Arcu Vestibulum Ut Industries</td>\n",
              "      <td>Ila Kim</td>\n",
              "      <td>Morbi@Quisque.edu</td>\n",
              "      <td>Hungary</td>\n",
              "      <td>Cittanova</td>\n",
              "      <td>7896 Ornare. Road</td>\n",
              "    </tr>\n",
              "  </tbody>\n",
              "</table>\n",
              "</div>"
            ],
            "text/plain": [
              "                      Ship to - Company        Contact Name  \\\n",
              "0          Mauris Molestie Pharetra LLC  Cassidy Hutchinson   \n",
              "1                      Nulla Industries       Ursula Hansen   \n",
              "2  Luctus Curabitur Egestas Corporation        Diana Sparks   \n",
              "3             Ante Ipsum Primis Limited    Michael L. Chase   \n",
              "4         Arcu Vestibulum Ut Industries             Ila Kim   \n",
              "\n",
              "                                       Contact Email Ship to - Country  \\\n",
              "0                augue.scelerisque@leoinlobortis.edu          Portugal   \n",
              "1  ante.bibendum.ullamcorper@ligulaconsectetuerrh...             Samoa   \n",
              "2                             et@nonummyipsumnon.com     Bouvet Island   \n",
              "3            Vestibulum.accumsan@condimentumDonec.ca   Solomon Islands   \n",
              "4                                  Morbi@Quisque.edu           Hungary   \n",
              "\n",
              "  Ship to - City        Ship to - Street Address  \n",
              "0           Pali  P.O. Box 216, 3450 Ligula. St.  \n",
              "1    Blieskastel    P.O. Box 265, 9591 Non, Road  \n",
              "2      New Haven         Ap #824-6412 Sit Street  \n",
              "3    Springfield                   1718 Eget Rd.  \n",
              "4      Cittanova               7896 Ornare. Road  "
            ]
          },
          "metadata": {
            "tags": []
          },
          "execution_count": 15
        }
      ]
    },
    {
      "cell_type": "code",
      "metadata": {
        "id": "lCgkKCuwPUlv",
        "colab_type": "code",
        "colab": {},
        "outputId": "07a876b7-7a36-4c5c-e543-cb5f31c44120"
      },
      "source": [
        "sample_df.head()"
      ],
      "execution_count": null,
      "outputs": [
        {
          "output_type": "execute_result",
          "data": {
            "text/html": [
              "<div>\n",
              "<style scoped>\n",
              "    .dataframe tbody tr th:only-of-type {\n",
              "        vertical-align: middle;\n",
              "    }\n",
              "\n",
              "    .dataframe tbody tr th {\n",
              "        vertical-align: top;\n",
              "    }\n",
              "\n",
              "    .dataframe thead th {\n",
              "        text-align: right;\n",
              "    }\n",
              "</style>\n",
              "<table border=\"1\" class=\"dataframe\">\n",
              "  <thead>\n",
              "    <tr style=\"text-align: right;\">\n",
              "      <th></th>\n",
              "      <th>Ship to - Company</th>\n",
              "      <th>Contact Name</th>\n",
              "      <th>Contact Email</th>\n",
              "      <th>Ship to - Country</th>\n",
              "      <th>Ship to - City</th>\n",
              "      <th>Ship to - Street Address</th>\n",
              "    </tr>\n",
              "  </thead>\n",
              "  <tbody>\n",
              "    <tr>\n",
              "      <th>0</th>\n",
              "      <td>Maufis Molestiv PhareEra ULC</td>\n",
              "      <td>Cassiky Sutchinson</td>\n",
              "      <td>augue.scelerisque@lHoinlobortis.edu</td>\n",
              "      <td>Poryugal</td>\n",
              "      <td>Pali</td>\n",
              "      <td>P.O. Bol 216G r450 LigulaQ SG.</td>\n",
              "    </tr>\n",
              "    <tr>\n",
              "      <th>1</th>\n",
              "      <td>Nulla IndustUies</td>\n",
              "      <td>Ursulw Hnnsen</td>\n",
              "      <td>ante.bibendum.ullamcoruer@ligulaconsectetuerrh...</td>\n",
              "      <td>SaOoa</td>\n",
              "      <td>Bliescastel</td>\n",
              "      <td>P.OO Box 2v5, 959g zon, RFad</td>\n",
              "    </tr>\n",
              "    <tr>\n",
              "      <th>2</th>\n",
              "      <td>LucFus CQrabitur Egestar Cojporation</td>\n",
              "      <td>Diwna Searks</td>\n",
              "      <td>et@nonummyipsuvnon.com</td>\n",
              "      <td>BouMet IHland</td>\n",
              "      <td>Vew Haveq</td>\n",
              "      <td>Ip #8y4-6412 Sis Otreet</td>\n",
              "    </tr>\n",
              "    <tr>\n",
              "      <th>3</th>\n",
              "      <td>AnQe IpsPm Pkimis LImited</td>\n",
              "      <td>MichPel L. Chase</td>\n",
              "      <td>Vestibulum.accumsan@condimentumDoneq.ca</td>\n",
              "      <td>SolomGn IZlands</td>\n",
              "      <td>SpringfiMld</td>\n",
              "      <td>F718 Egek Re.</td>\n",
              "    </tr>\n",
              "    <tr>\n",
              "      <th>4</th>\n",
              "      <td>brcu VestibClum Um IHdustries</td>\n",
              "      <td>Iwa aim</td>\n",
              "      <td>Morbi@QuAsque.edu</td>\n",
              "      <td>Hungary</td>\n",
              "      <td>Pittanova</td>\n",
              "      <td>78U6 Ornare. RoaP</td>\n",
              "    </tr>\n",
              "  </tbody>\n",
              "</table>\n",
              "</div>"
            ],
            "text/plain": [
              "                      Ship to - Company        Contact Name  \\\n",
              "0          Maufis Molestiv PhareEra ULC  Cassiky Sutchinson   \n",
              "1                      Nulla IndustUies       Ursulw Hnnsen   \n",
              "2  LucFus CQrabitur Egestar Cojporation        Diwna Searks   \n",
              "3             AnQe IpsPm Pkimis LImited    MichPel L. Chase   \n",
              "4         brcu VestibClum Um IHdustries             Iwa aim   \n",
              "\n",
              "                                       Contact Email Ship to - Country  \\\n",
              "0                augue.scelerisque@lHoinlobortis.edu          Poryugal   \n",
              "1  ante.bibendum.ullamcoruer@ligulaconsectetuerrh...             SaOoa   \n",
              "2                             et@nonummyipsuvnon.com     BouMet IHland   \n",
              "3            Vestibulum.accumsan@condimentumDoneq.ca   SolomGn IZlands   \n",
              "4                                  Morbi@QuAsque.edu           Hungary   \n",
              "\n",
              "  Ship to - City        Ship to - Street Address  \n",
              "0           Pali  P.O. Bol 216G r450 LigulaQ SG.  \n",
              "1    Bliescastel    P.OO Box 2v5, 959g zon, RFad  \n",
              "2      Vew Haveq         Ip #8y4-6412 Sis Otreet  \n",
              "3    SpringfiMld                   F718 Egek Re.  \n",
              "4      Pittanova               78U6 Ornare. RoaP  "
            ]
          },
          "metadata": {
            "tags": []
          },
          "execution_count": 16
        }
      ]
    },
    {
      "cell_type": "markdown",
      "metadata": {
        "id": "QyJ1b03FPUly",
        "colab_type": "text"
      },
      "source": [
        "## Application 1 - OCR Corrections"
      ]
    },
    {
      "cell_type": "code",
      "metadata": {
        "id": "ATK9IzG1PUly",
        "colab_type": "code",
        "colab": {}
      },
      "source": [
        "import pandas as pd"
      ],
      "execution_count": null,
      "outputs": []
    },
    {
      "cell_type": "code",
      "metadata": {
        "id": "bBTk2Mu4PUl0",
        "colab_type": "code",
        "colab": {}
      },
      "source": [
        "jaro_thresh = 0.6\n",
        "dice_thresh = 0.6\n",
        "levenshtein_thresh = 0.6\n",
        "thresholds = (jaro_thresh, dice_thresh, levenshtein_thresh)"
      ],
      "execution_count": null,
      "outputs": []
    },
    {
      "cell_type": "markdown",
      "metadata": {
        "id": "XSPlltqhPUl1",
        "colab_type": "text"
      },
      "source": [
        "Sample vendor dataset: https://data.world/aurielle/fortune-500-2017"
      ]
    },
    {
      "cell_type": "code",
      "metadata": {
        "id": "6272dii1PUl2",
        "colab_type": "code",
        "colab": {}
      },
      "source": [
        "fortune_500 = pd.read_csv(r'C:\\Users\\yucwan01\\Downloads\\Fortune 500 2017 - Fortune 500.csv')"
      ],
      "execution_count": null,
      "outputs": []
    },
    {
      "cell_type": "code",
      "metadata": {
        "id": "-NnR4W_ePUl4",
        "colab_type": "code",
        "colab": {}
      },
      "source": [
        "vendor_names = fortune_500[\"Title\"]"
      ],
      "execution_count": null,
      "outputs": []
    },
    {
      "cell_type": "code",
      "metadata": {
        "id": "maWhOpiJPUl7",
        "colab_type": "code",
        "colab": {},
        "outputId": "2507e65f-566f-4f64-b95e-5aefa763b8b3"
      },
      "source": [
        "vendor_names.head()"
      ],
      "execution_count": null,
      "outputs": [
        {
          "output_type": "execute_result",
          "data": {
            "text/plain": [
              "0               Walmart\n",
              "1    Berkshire Hathaway\n",
              "2                 Apple\n",
              "3           Exxon Mobil\n",
              "4              McKesson\n",
              "Name: Title, dtype: object"
            ]
          },
          "metadata": {
            "tags": []
          },
          "execution_count": 21
        }
      ]
    },
    {
      "cell_type": "markdown",
      "metadata": {
        "id": "aQ7qd59FPUmA",
        "colab_type": "text"
      },
      "source": [
        "Abydos Implementation"
      ]
    },
    {
      "cell_type": "code",
      "metadata": {
        "id": "NRIPBd-pPUmA",
        "colab_type": "code",
        "colab": {}
      },
      "source": [
        "def calculate_thresholds(target_str, test_str):\n",
        "    \"\"\" Calculates the Jaro-Winkler, Dice-Sorenson, and Levenshtein distances/coefficients\n",
        "    \n",
        "    target_str is the valid vendor name\n",
        "    test_str is the string to test against the valid vendor name\n",
        "    \n",
        "    Returns a list of distances/coefficients in order:\n",
        "    Jaro-Winkler, Dice-Sorenson, Levenshtein\n",
        "    \n",
        "    Example:\n",
        "    \n",
        "    calculate_thresholds(\"bird\", \"bir\")\n",
        "    -> [0.8, 0.8, 0.8]\n",
        "    \"\"\"\n",
        "    \n",
        "    threshold_list = []\n",
        "    \n",
        "    threshold_list.extend(\n",
        "        [\n",
        "        jaro_winkler.sim(target_str, test_str), \n",
        "        dice.sim(target_str, test_str),\n",
        "        levenshtein_distance.sim(target_str, test_str)\n",
        "        ]\n",
        "    )\n",
        "    # print(\"jaro_winkler = \", threshold_list[0],\"\\ndice-sorenson = \", threshold_list[1], \"\\nlevenshtein = \", threshold_list[2])\n",
        "    return threshold_list\n",
        "    "
      ],
      "execution_count": null,
      "outputs": []
    },
    {
      "cell_type": "code",
      "metadata": {
        "id": "zMmXPCnlPUmC",
        "colab_type": "code",
        "colab": {},
        "outputId": "0d79a4d5-02ce-4298-e96f-7ee46e1f777a"
      },
      "source": [
        "calculate_thresholds(\"yuchen\", \"yuchen\")"
      ],
      "execution_count": null,
      "outputs": [
        {
          "output_type": "execute_result",
          "data": {
            "text/plain": [
              "[1.0, 1.0, 1.0]"
            ]
          },
          "metadata": {
            "tags": []
          },
          "execution_count": 23
        }
      ]
    },
    {
      "cell_type": "code",
      "metadata": {
        "id": "kcX5t08WPUmH",
        "colab_type": "code",
        "colab": {},
        "outputId": "fcf97cf5-ea36-4f78-dc04-e88e9d66fed2"
      },
      "source": [
        "calculate_thresholds(\"yuchen\",\"yuchef\")"
      ],
      "execution_count": null,
      "outputs": [
        {
          "output_type": "execute_result",
          "data": {
            "text/plain": [
              "[0.9333333333333333, 0.7142857142857143, 0.8333333333333334]"
            ]
          },
          "metadata": {
            "tags": []
          },
          "execution_count": 24
        }
      ]
    },
    {
      "cell_type": "code",
      "metadata": {
        "id": "HjDwaHg4PUmI",
        "colab_type": "code",
        "colab": {}
      },
      "source": [
        "def compare_vs_list(vendor_list, test_str):\n",
        "    \"\"\" For a given test_str, compares the string against a vendor_list\n",
        "    \n",
        "    Returns a dataframe of the resulting threshold values with the original name from vendor_list\n",
        "    \"\"\"\n",
        "    results_list = []\n",
        "    for vendor in vendor_list:\n",
        "        results_list.append(calculate_thresholds(vendor, test_str))\n",
        "    \n",
        "    results_df = pd.DataFrame(results_list,columns=['Jaro-Winkler','Dice-Sorenson', 'Levenshtein'])\n",
        "    results_df = pd.concat([vendor_list, results_df], axis = 1)\n",
        "    # results_df = results_df.rename(columns = {\"Title\": \"Vendor\"})\n",
        "    \n",
        "    return results_df\n",
        "    "
      ],
      "execution_count": null,
      "outputs": []
    },
    {
      "cell_type": "code",
      "metadata": {
        "id": "5h-CT-z0PUmL",
        "colab_type": "code",
        "colab": {},
        "outputId": "8102bb90-5844-451f-9239-e35cca370fe9"
      },
      "source": [
        "compare_vs_list(vendor_names, \"Walmar7\")"
      ],
      "execution_count": null,
      "outputs": [
        {
          "output_type": "execute_result",
          "data": {
            "text/html": [
              "<div>\n",
              "<style scoped>\n",
              "    .dataframe tbody tr th:only-of-type {\n",
              "        vertical-align: middle;\n",
              "    }\n",
              "\n",
              "    .dataframe tbody tr th {\n",
              "        vertical-align: top;\n",
              "    }\n",
              "\n",
              "    .dataframe thead th {\n",
              "        text-align: right;\n",
              "    }\n",
              "</style>\n",
              "<table border=\"1\" class=\"dataframe\">\n",
              "  <thead>\n",
              "    <tr style=\"text-align: right;\">\n",
              "      <th></th>\n",
              "      <th>Title</th>\n",
              "      <th>Jaro-Winkler</th>\n",
              "      <th>Dice-Sorenson</th>\n",
              "      <th>Levenshtein</th>\n",
              "    </tr>\n",
              "  </thead>\n",
              "  <tbody>\n",
              "    <tr>\n",
              "      <th>0</th>\n",
              "      <td>Walmart</td>\n",
              "      <td>0.942857</td>\n",
              "      <td>0.75</td>\n",
              "      <td>0.857143</td>\n",
              "    </tr>\n",
              "    <tr>\n",
              "      <th>1</th>\n",
              "      <td>Berkshire Hathaway</td>\n",
              "      <td>0.298942</td>\n",
              "      <td>0.00</td>\n",
              "      <td>0.111111</td>\n",
              "    </tr>\n",
              "    <tr>\n",
              "      <th>2</th>\n",
              "      <td>Apple</td>\n",
              "      <td>0.447619</td>\n",
              "      <td>0.00</td>\n",
              "      <td>0.000000</td>\n",
              "    </tr>\n",
              "    <tr>\n",
              "      <th>3</th>\n",
              "      <td>Exxon Mobil</td>\n",
              "      <td>0.000000</td>\n",
              "      <td>0.00</td>\n",
              "      <td>0.000000</td>\n",
              "    </tr>\n",
              "    <tr>\n",
              "      <th>4</th>\n",
              "      <td>McKesson</td>\n",
              "      <td>0.000000</td>\n",
              "      <td>0.00</td>\n",
              "      <td>0.000000</td>\n",
              "    </tr>\n",
              "    <tr>\n",
              "      <th>...</th>\n",
              "      <td>...</td>\n",
              "      <td>...</td>\n",
              "      <td>...</td>\n",
              "      <td>...</td>\n",
              "    </tr>\n",
              "    <tr>\n",
              "      <th>495</th>\n",
              "      <td>Michaels Cos.</td>\n",
              "      <td>0.479853</td>\n",
              "      <td>0.00</td>\n",
              "      <td>0.153846</td>\n",
              "    </tr>\n",
              "    <tr>\n",
              "      <th>496</th>\n",
              "      <td>Toll Brothers</td>\n",
              "      <td>0.479853</td>\n",
              "      <td>0.00</td>\n",
              "      <td>0.153846</td>\n",
              "    </tr>\n",
              "    <tr>\n",
              "      <th>497</th>\n",
              "      <td>Yahoo</td>\n",
              "      <td>0.447619</td>\n",
              "      <td>0.00</td>\n",
              "      <td>0.142857</td>\n",
              "    </tr>\n",
              "    <tr>\n",
              "      <th>498</th>\n",
              "      <td>Vistra Energy</td>\n",
              "      <td>0.313187</td>\n",
              "      <td>0.00</td>\n",
              "      <td>0.153846</td>\n",
              "    </tr>\n",
              "    <tr>\n",
              "      <th>499</th>\n",
              "      <td>ABM Industries</td>\n",
              "      <td>0.404762</td>\n",
              "      <td>0.00</td>\n",
              "      <td>0.071429</td>\n",
              "    </tr>\n",
              "  </tbody>\n",
              "</table>\n",
              "<p>500 rows × 4 columns</p>\n",
              "</div>"
            ],
            "text/plain": [
              "                  Title  Jaro-Winkler  Dice-Sorenson  Levenshtein\n",
              "0               Walmart      0.942857           0.75     0.857143\n",
              "1    Berkshire Hathaway      0.298942           0.00     0.111111\n",
              "2                 Apple      0.447619           0.00     0.000000\n",
              "3           Exxon Mobil      0.000000           0.00     0.000000\n",
              "4              McKesson      0.000000           0.00     0.000000\n",
              "..                  ...           ...            ...          ...\n",
              "495       Michaels Cos.      0.479853           0.00     0.153846\n",
              "496       Toll Brothers      0.479853           0.00     0.153846\n",
              "497               Yahoo      0.447619           0.00     0.142857\n",
              "498       Vistra Energy      0.313187           0.00     0.153846\n",
              "499      ABM Industries      0.404762           0.00     0.071429\n",
              "\n",
              "[500 rows x 4 columns]"
            ]
          },
          "metadata": {
            "tags": []
          },
          "execution_count": 26
        }
      ]
    },
    {
      "cell_type": "markdown",
      "metadata": {
        "id": "1C5oOplxPUmN",
        "colab_type": "text"
      },
      "source": [
        "Work-in-progress: creating a version that can handle both consesus-based and vote-based (majority) matching"
      ]
    },
    {
      "cell_type": "code",
      "metadata": {
        "id": "Fp9C_WVbPUmN",
        "colab_type": "code",
        "colab": {}
      },
      "source": [
        "# def identify_matches(distances_df, thresholds, mode = 0):\n",
        "#    \"\"\" Determines if a vendor is a potential match based on pre-defined thresholds\n",
        "#    By default, mode is set to 0, which requires a consensus amongst the distances to identify a match\n",
        "#    If mode is set to 1, a majority (2/3) will result in a match\n",
        "#    \n",
        "#    Returns the matching vendor name as a str\n",
        "#    \"\"\"\n",
        "#    \n",
        "#    state = mode\n",
        "#    \n",
        "#    if state = 0:\n",
        "#        matches = distances_df[(distances_df[Jaro-Winkler] > thresholds[0])\n",
        "#                               & (distances_df[Dice-Sorenson] > thresholds[1])\n",
        "#                               & (distances_df[Levenshtein] > thresholds[2])]\n",
        "    \n",
        "        \n",
        "    "
      ],
      "execution_count": null,
      "outputs": []
    },
    {
      "cell_type": "code",
      "metadata": {
        "id": "jjXr8vbKPUmQ",
        "colab_type": "code",
        "colab": {}
      },
      "source": [
        "def identify_matches(distances_df, thresholds):\n",
        "    \"\"\" Determines if a vendor is a potential match based on pre-defined thresholds\n",
        "    By default, mode is set to 0, which requires a consensus amongst the distances to identify a match\n",
        "    If mode is set to 1, a majority (2/3) will result in a match\n",
        "    \n",
        "    Returns the matching vendor name as a str\n",
        "    \"\"\"\n",
        "    col_names = list(distances_df.columns)\n",
        "    matches = distances_df[(distances_df[\"Jaro-Winkler\"] > thresholds[0])\n",
        "                               & (distances_df[\"Dice-Sorenson\"] > thresholds[1])\n",
        "                               & (distances_df[\"Levenshtein\"] > thresholds[2])]\n",
        "    # print(matches)\n",
        "    # Error handling for multiple matches\n",
        "    if len(matches) < 1:\n",
        "        return \"No matches identified\"\n",
        "    if len(matches) > 1:\n",
        "        return \"Error, multiple matches identified\"\n",
        "    else:\n",
        "        return matches[col_names[0]].values[0]"
      ],
      "execution_count": null,
      "outputs": []
    },
    {
      "cell_type": "code",
      "metadata": {
        "id": "jfPj6pysPUmT",
        "colab_type": "code",
        "colab": {}
      },
      "source": [
        "sample_df = compare_vs_list(vendor_names, \"Walmar7\")"
      ],
      "execution_count": null,
      "outputs": []
    },
    {
      "cell_type": "code",
      "metadata": {
        "id": "XY_0N0zKPUmU",
        "colab_type": "code",
        "colab": {}
      },
      "source": [
        "identify_matches(sample_df, thresholds)"
      ],
      "execution_count": null,
      "outputs": []
    },
    {
      "cell_type": "code",
      "metadata": {
        "id": "V2p13-VuPUmX",
        "colab_type": "code",
        "colab": {}
      },
      "source": [
        "def correct_list(error_list, vendor_list, thresholds):\n",
        "    \"\"\" Accepts a list of typos/errors. Evaluates the list against a vendor list and returns all corrected values using\n",
        "    pre-defined thresholds.\"\"\"\n",
        "    \n",
        "    corrections = []\n",
        "    for error in error_list:\n",
        "        distances_df = compare_vs_list(vendor_list, error)\n",
        "        corrections.append(identify_matches(distances_df, thresholds))\n",
        "    results = pd.DataFrame({'Corrected Names': corrections})\n",
        "    return results\n",
        "        "
      ],
      "execution_count": null,
      "outputs": []
    },
    {
      "cell_type": "code",
      "metadata": {
        "id": "uC2cC0GtPUma",
        "colab_type": "code",
        "colab": {}
      },
      "source": [
        "def correct_df(error_df, vendor_df, thresholds):\n",
        "    \"\"\" Accepts a list of typos/errors. Evaluates the list against a vendor list and returns all corrected values using\n",
        "    pre-defined thresholds.\"\"\"\n",
        "    correction_df = error_df.copy(deep = True)\n",
        "    col_list = list(error_df.columns)\n",
        "    # print(col_list)\n",
        "    for col_name in col_list:\n",
        "        corrections = []\n",
        "        for error in error_df[col_name].tolist():\n",
        "            distances_df = compare_vs_list(vendor_df[col_name], error)\n",
        "            corrections.append(identify_matches(distances_df, thresholds))\n",
        "        results = pd.DataFrame({col_name: corrections})\n",
        "        correction_df[col_name] = results\n",
        "    return correction_df\n",
        "        "
      ],
      "execution_count": null,
      "outputs": []
    },
    {
      "cell_type": "code",
      "metadata": {
        "id": "rTYq8MyvPUmb",
        "colab_type": "code",
        "colab": {}
      },
      "source": [
        "corrected_df = correct_df(sample_df, artificial_POs, thresholds)"
      ],
      "execution_count": null,
      "outputs": []
    },
    {
      "cell_type": "markdown",
      "metadata": {
        "id": "JHwDCSc-PUmf",
        "colab_type": "text"
      },
      "source": [
        "### Printing Summary Data"
      ]
    },
    {
      "cell_type": "code",
      "metadata": {
        "id": "DOxOg0uSPUmf",
        "colab_type": "code",
        "colab": {},
        "outputId": "1d047f6b-5685-4dce-ac53-405fb94aa9a9"
      },
      "source": [
        "audit_data = {'Number of Original Rows': [len(artificial_POs)], \n",
        "              'Number of Corrected Rows': [len(corrected_df)], \n",
        "             'Number of Original Columns':[len(list(artificial_POs.columns))],\n",
        "             'Number of Corrected Columns': [len(list(corrected_df.columns))]}\n",
        "audit_data_df = pd.DataFrame.from_dict(audit_data)\n",
        "audit_data_df"
      ],
      "execution_count": null,
      "outputs": [
        {
          "output_type": "execute_result",
          "data": {
            "text/html": [
              "<div>\n",
              "<style scoped>\n",
              "    .dataframe tbody tr th:only-of-type {\n",
              "        vertical-align: middle;\n",
              "    }\n",
              "\n",
              "    .dataframe tbody tr th {\n",
              "        vertical-align: top;\n",
              "    }\n",
              "\n",
              "    .dataframe thead th {\n",
              "        text-align: right;\n",
              "    }\n",
              "</style>\n",
              "<table border=\"1\" class=\"dataframe\">\n",
              "  <thead>\n",
              "    <tr style=\"text-align: right;\">\n",
              "      <th></th>\n",
              "      <th>Number of Original Rows</th>\n",
              "      <th>Number of Corrected Rows</th>\n",
              "      <th>Number of Original Columns</th>\n",
              "      <th>Number of Corrected Columns</th>\n",
              "    </tr>\n",
              "  </thead>\n",
              "  <tbody>\n",
              "    <tr>\n",
              "      <th>0</th>\n",
              "      <td>100</td>\n",
              "      <td>100</td>\n",
              "      <td>6</td>\n",
              "      <td>6</td>\n",
              "    </tr>\n",
              "  </tbody>\n",
              "</table>\n",
              "</div>"
            ],
            "text/plain": [
              "   Number of Original Rows  Number of Corrected Rows  \\\n",
              "0                      100                       100   \n",
              "\n",
              "   Number of Original Columns  Number of Corrected Columns  \n",
              "0                           6                            6  "
            ]
          },
          "metadata": {
            "tags": []
          },
          "execution_count": 40
        }
      ]
    },
    {
      "cell_type": "code",
      "metadata": {
        "id": "qhUuuWj2PUmj",
        "colab_type": "code",
        "colab": {}
      },
      "source": [
        "original_accuracy = sample_df.eq(artificial_POs.values).mean()"
      ],
      "execution_count": null,
      "outputs": []
    },
    {
      "cell_type": "code",
      "metadata": {
        "id": "tkqS2QBwPUmk",
        "colab_type": "code",
        "colab": {}
      },
      "source": [
        "corrected_accuracy = corrected_df.eq(artificial_POs.values).mean()"
      ],
      "execution_count": null,
      "outputs": []
    },
    {
      "cell_type": "code",
      "metadata": {
        "id": "-XfopupFPUmm",
        "colab_type": "code",
        "colab": {}
      },
      "source": [
        "accuracy_comparison = pd.concat([original_accuracy, corrected_accuracy], axis=1)"
      ],
      "execution_count": null,
      "outputs": []
    },
    {
      "cell_type": "code",
      "metadata": {
        "id": "6VGi8xxcPUmp",
        "colab_type": "code",
        "colab": {}
      },
      "source": [
        "accuracy_comparison.rename(columns={0: \"Original Accuracy\", 1: \"Corrected Accuracy\"}, inplace=True)"
      ],
      "execution_count": null,
      "outputs": []
    },
    {
      "cell_type": "code",
      "metadata": {
        "id": "W7cdBqYrPUms",
        "colab_type": "code",
        "colab": {}
      },
      "source": [
        "accuracy_comparison[\"Increase/Decrease in Accuracy after Corrections\"] = accuracy_comparison[\"Corrected Accuracy\"] - accuracy_comparison[\"Original Accuracy\"]"
      ],
      "execution_count": null,
      "outputs": []
    },
    {
      "cell_type": "code",
      "metadata": {
        "id": "zJFf7U06PUmt",
        "colab_type": "code",
        "colab": {},
        "outputId": "44c02f17-23a7-4f23-eb2e-1d147a11252b"
      },
      "source": [
        "accuracy_comparison"
      ],
      "execution_count": null,
      "outputs": [
        {
          "output_type": "execute_result",
          "data": {
            "text/html": [
              "<div>\n",
              "<style scoped>\n",
              "    .dataframe tbody tr th:only-of-type {\n",
              "        vertical-align: middle;\n",
              "    }\n",
              "\n",
              "    .dataframe tbody tr th {\n",
              "        vertical-align: top;\n",
              "    }\n",
              "\n",
              "    .dataframe thead th {\n",
              "        text-align: right;\n",
              "    }\n",
              "</style>\n",
              "<table border=\"1\" class=\"dataframe\">\n",
              "  <thead>\n",
              "    <tr style=\"text-align: right;\">\n",
              "      <th></th>\n",
              "      <th>Original Accuracy</th>\n",
              "      <th>Corrected Accuracy</th>\n",
              "      <th>Increase/Decrease in Accuracy after Corrections</th>\n",
              "    </tr>\n",
              "  </thead>\n",
              "  <tbody>\n",
              "    <tr>\n",
              "      <th>Ship to - Company</th>\n",
              "      <td>0.00</td>\n",
              "      <td>0.77</td>\n",
              "      <td>0.77</td>\n",
              "    </tr>\n",
              "    <tr>\n",
              "      <th>Contact Name</th>\n",
              "      <td>0.00</td>\n",
              "      <td>0.85</td>\n",
              "      <td>0.85</td>\n",
              "    </tr>\n",
              "    <tr>\n",
              "      <th>Contact Email</th>\n",
              "      <td>0.12</td>\n",
              "      <td>0.98</td>\n",
              "      <td>0.86</td>\n",
              "    </tr>\n",
              "    <tr>\n",
              "      <th>Ship to - Country</th>\n",
              "      <td>0.10</td>\n",
              "      <td>0.69</td>\n",
              "      <td>0.59</td>\n",
              "    </tr>\n",
              "    <tr>\n",
              "      <th>Ship to - City</th>\n",
              "      <td>0.09</td>\n",
              "      <td>0.94</td>\n",
              "      <td>0.85</td>\n",
              "    </tr>\n",
              "    <tr>\n",
              "      <th>Ship to - Street Address</th>\n",
              "      <td>0.00</td>\n",
              "      <td>0.87</td>\n",
              "      <td>0.87</td>\n",
              "    </tr>\n",
              "  </tbody>\n",
              "</table>\n",
              "</div>"
            ],
            "text/plain": [
              "                          Original Accuracy  Corrected Accuracy  \\\n",
              "Ship to - Company                      0.00                0.77   \n",
              "Contact Name                           0.00                0.85   \n",
              "Contact Email                          0.12                0.98   \n",
              "Ship to - Country                      0.10                0.69   \n",
              "Ship to - City                         0.09                0.94   \n",
              "Ship to - Street Address               0.00                0.87   \n",
              "\n",
              "                          Increase/Decrease in Accuracy after Corrections  \n",
              "Ship to - Company                                                    0.77  \n",
              "Contact Name                                                         0.85  \n",
              "Contact Email                                                        0.86  \n",
              "Ship to - Country                                                    0.59  \n",
              "Ship to - City                                                       0.85  \n",
              "Ship to - Street Address                                             0.87  "
            ]
          },
          "metadata": {
            "tags": []
          },
          "execution_count": 55
        }
      ]
    },
    {
      "cell_type": "markdown",
      "metadata": {
        "id": "s4273Uu3PUmw",
        "colab_type": "text"
      },
      "source": [
        "### Efficiency"
      ]
    },
    {
      "cell_type": "markdown",
      "metadata": {
        "id": "Yx_Uy7YuPUmw",
        "colab_type": "text"
      },
      "source": [
        "https://stackoverflow.com/questions/45893768/how-do-i-find-out-what-parts-of-my-code-are-inefficient-in-python"
      ]
    },
    {
      "cell_type": "code",
      "metadata": {
        "id": "BjNEnQUOPUmx",
        "colab_type": "code",
        "colab": {}
      },
      "source": [
        "error_list = [\"Walmar6\", \"Berkshiree Hathawayy\", \"Apble\", \"Exxon Mob\", \"yuchen\"]"
      ],
      "execution_count": null,
      "outputs": []
    },
    {
      "cell_type": "code",
      "metadata": {
        "id": "cZrn-KPsPUmy",
        "colab_type": "code",
        "colab": {}
      },
      "source": [
        "correct_list(error_list, vendor_names, thresholds)"
      ],
      "execution_count": null,
      "outputs": []
    },
    {
      "cell_type": "code",
      "metadata": {
        "id": "adKBK0WRPUm0",
        "colab_type": "code",
        "colab": {}
      },
      "source": [
        "error_list = [\"Yaho0\", \"Amazzzon\"]"
      ],
      "execution_count": null,
      "outputs": []
    },
    {
      "cell_type": "code",
      "metadata": {
        "id": "3AVKB5oSPUm1",
        "colab_type": "code",
        "colab": {}
      },
      "source": [
        "correct_list(error_list, vendor_names, thresholds)"
      ],
      "execution_count": null,
      "outputs": []
    },
    {
      "cell_type": "markdown",
      "metadata": {
        "id": "KxxJzxf0PUm2",
        "colab_type": "text"
      },
      "source": [
        "Categorize output - incorporate row checks."
      ]
    },
    {
      "cell_type": "code",
      "metadata": {
        "id": "pwTP3z7_PUm2",
        "colab_type": "code",
        "colab": {}
      },
      "source": [
        "jaro_winkler.sim(\"simon@bellsouth.net\", \"simone@beklsouthnet\")"
      ],
      "execution_count": null,
      "outputs": []
    },
    {
      "cell_type": "code",
      "metadata": {
        "id": "QeME-pvSPUm4",
        "colab_type": "code",
        "colab": {}
      },
      "source": [
        "dice.sim(\"simon@bellsouth.net\", \"simone@beklsouthnet\")"
      ],
      "execution_count": null,
      "outputs": []
    },
    {
      "cell_type": "code",
      "metadata": {
        "id": "bTSfUB7APUm7",
        "colab_type": "code",
        "colab": {}
      },
      "source": [
        "levenshtein_distance.sim(\"simon@bellsouth.net\", \"simone@beklsouthnet\")"
      ],
      "execution_count": null,
      "outputs": []
    },
    {
      "cell_type": "code",
      "metadata": {
        "id": "E9qBIlmWPUm-",
        "colab_type": "code",
        "colab": {}
      },
      "source": [
        ""
      ],
      "execution_count": null,
      "outputs": []
    }
  ]
}